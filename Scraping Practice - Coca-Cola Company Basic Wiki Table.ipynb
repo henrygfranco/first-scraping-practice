{
 "cells": [
  {
   "cell_type": "code",
   "execution_count": 193,
   "metadata": {},
   "outputs": [],
   "source": [
    "import numpy as np\n",
    "import pandas as pd\n",
    "import requests\n",
    "import matplotlib.pyplot as plt\n",
    "\n",
    "from pandas import Series,DataFrame\n",
    "from numpy.random import randn\n",
    "from bs4 import BeautifulSoup"
   ]
  },
  {
   "cell_type": "code",
   "execution_count": 139,
   "metadata": {},
   "outputs": [],
   "source": [
    "url = 'https://en.wikipedia.org/wiki/The_Coca-Cola_Company'\n",
    "r = requests.get(url)"
   ]
  },
  {
   "cell_type": "code",
   "execution_count": 140,
   "metadata": {},
   "outputs": [],
   "source": [
    "soup = BeautifulSoup(r.content, 'html.parser')"
   ]
  },
  {
   "cell_type": "code",
   "execution_count": 214,
   "metadata": {},
   "outputs": [],
   "source": [
    "tables = soup.find_all('table',class_=\"wikitable\")\n",
    "\n",
    "data= []\n",
    "\n",
    "for row in tables:\n",
    "    clean_names = []\n",
    "    names = row.select('td')\n",
    "    for name in names:\n",
    "        clean_names.append(name.text.strip())\n",
    "    data.append(clean_names)\n"
   ]
  },
  {
   "cell_type": "code",
   "execution_count": 215,
   "metadata": {},
   "outputs": [],
   "source": [
    "column_names = [item.get_text() for item in tables[0].find_all('th')]\n",
    "contents = [item.get_text() for item in tables[0].find_all('td')]"
   ]
  },
  {
   "cell_type": "code",
   "execution_count": 216,
   "metadata": {},
   "outputs": [],
   "source": [
    "i=0\n",
    "temp_list = []\n",
    "rows = []\n",
    "for c in contents:\n",
    "    temp_list.append(c)\n",
    "    i+=1\n",
    "    if i==5:\n",
    "        rows.append(temp_list)\n",
    "        temp_list = []\n",
    "        i=0"
   ]
  },
  {
   "cell_type": "code",
   "execution_count": 217,
   "metadata": {},
   "outputs": [],
   "source": [
    "data = []\n",
    "for row in rows:\n",
    "    d= {}\n",
    "    \n",
    "    d['Year'] = row[0][:-5]\n",
    "    d['Revenue'] = int(row[1].replace(',','').replace('\\n',''))\n",
    "    d['Income'] = int(row[2].replace(',','').replace('\\n',''))\n",
    "    d['Share Price'] = float(row[3].replace(',','').replace('\\n',''))\n",
    "    d['Employees'] = row[4].replace('\\n','').replace(',','')\n",
    "    data.append(d)"
   ]
  },
  {
   "cell_type": "code",
   "execution_count": 218,
   "metadata": {},
   "outputs": [],
   "source": [
    "df = DataFrame.from_dict(data,orient='columns')"
   ]
  },
  {
   "cell_type": "code",
   "execution_count": 219,
   "metadata": {},
   "outputs": [
    {
     "data": {
      "text/html": [
       "<div>\n",
       "<style scoped>\n",
       "    .dataframe tbody tr th:only-of-type {\n",
       "        vertical-align: middle;\n",
       "    }\n",
       "\n",
       "    .dataframe tbody tr th {\n",
       "        vertical-align: top;\n",
       "    }\n",
       "\n",
       "    .dataframe thead th {\n",
       "        text-align: right;\n",
       "    }\n",
       "</style>\n",
       "<table border=\"1\" class=\"dataframe\">\n",
       "  <thead>\n",
       "    <tr style=\"text-align: right;\">\n",
       "      <th></th>\n",
       "      <th>Employees</th>\n",
       "      <th>Income</th>\n",
       "      <th>Revenue</th>\n",
       "      <th>Share Price</th>\n",
       "      <th>Year</th>\n",
       "    </tr>\n",
       "  </thead>\n",
       "  <tbody>\n",
       "    <tr>\n",
       "      <th>0</th>\n",
       "      <td></td>\n",
       "      <td>2177</td>\n",
       "      <td>17354</td>\n",
       "      <td>17.11</td>\n",
       "      <td>2000</td>\n",
       "    </tr>\n",
       "    <tr>\n",
       "      <th>1</th>\n",
       "      <td></td>\n",
       "      <td>3969</td>\n",
       "      <td>17545</td>\n",
       "      <td>15.24</td>\n",
       "      <td>2001</td>\n",
       "    </tr>\n",
       "    <tr>\n",
       "      <th>2</th>\n",
       "      <td></td>\n",
       "      <td>3050</td>\n",
       "      <td>19394</td>\n",
       "      <td>15.82</td>\n",
       "      <td>2002</td>\n",
       "    </tr>\n",
       "    <tr>\n",
       "      <th>3</th>\n",
       "      <td></td>\n",
       "      <td>4347</td>\n",
       "      <td>20857</td>\n",
       "      <td>14.28</td>\n",
       "      <td>2003</td>\n",
       "    </tr>\n",
       "    <tr>\n",
       "      <th>4</th>\n",
       "      <td></td>\n",
       "      <td>4847</td>\n",
       "      <td>21742</td>\n",
       "      <td>15.34</td>\n",
       "      <td>2004</td>\n",
       "    </tr>\n",
       "    <tr>\n",
       "      <th>5</th>\n",
       "      <td></td>\n",
       "      <td>4872</td>\n",
       "      <td>23104</td>\n",
       "      <td>14.47</td>\n",
       "      <td>2005</td>\n",
       "    </tr>\n",
       "    <tr>\n",
       "      <th>6</th>\n",
       "      <td></td>\n",
       "      <td>5080</td>\n",
       "      <td>24088</td>\n",
       "      <td>15.26</td>\n",
       "      <td>2006</td>\n",
       "    </tr>\n",
       "    <tr>\n",
       "      <th>7</th>\n",
       "      <td>90500</td>\n",
       "      <td>5981</td>\n",
       "      <td>28857</td>\n",
       "      <td>19.24</td>\n",
       "      <td>2007</td>\n",
       "    </tr>\n",
       "    <tr>\n",
       "      <th>8</th>\n",
       "      <td>92400</td>\n",
       "      <td>5807</td>\n",
       "      <td>31944</td>\n",
       "      <td>19.71</td>\n",
       "      <td>2008</td>\n",
       "    </tr>\n",
       "    <tr>\n",
       "      <th>9</th>\n",
       "      <td>92800</td>\n",
       "      <td>6824</td>\n",
       "      <td>30990</td>\n",
       "      <td>18.49</td>\n",
       "      <td>2009</td>\n",
       "    </tr>\n",
       "    <tr>\n",
       "      <th>10</th>\n",
       "      <td>139600</td>\n",
       "      <td>11787</td>\n",
       "      <td>35119</td>\n",
       "      <td>22.12</td>\n",
       "      <td>2010</td>\n",
       "    </tr>\n",
       "    <tr>\n",
       "      <th>11</th>\n",
       "      <td>146200</td>\n",
       "      <td>8584</td>\n",
       "      <td>46542</td>\n",
       "      <td>26.84</td>\n",
       "      <td>2011</td>\n",
       "    </tr>\n",
       "    <tr>\n",
       "      <th>12</th>\n",
       "      <td>150900</td>\n",
       "      <td>9019</td>\n",
       "      <td>48017</td>\n",
       "      <td>30.70</td>\n",
       "      <td>2012</td>\n",
       "    </tr>\n",
       "    <tr>\n",
       "      <th>13</th>\n",
       "      <td>130600</td>\n",
       "      <td>8584</td>\n",
       "      <td>46854</td>\n",
       "      <td>33.78</td>\n",
       "      <td>2013</td>\n",
       "    </tr>\n",
       "    <tr>\n",
       "      <th>14</th>\n",
       "      <td>129200</td>\n",
       "      <td>7098</td>\n",
       "      <td>45998</td>\n",
       "      <td>35.82</td>\n",
       "      <td>2014</td>\n",
       "    </tr>\n",
       "    <tr>\n",
       "      <th>15</th>\n",
       "      <td>123200</td>\n",
       "      <td>7351</td>\n",
       "      <td>44294</td>\n",
       "      <td>37.29</td>\n",
       "      <td>2015</td>\n",
       "    </tr>\n",
       "    <tr>\n",
       "      <th>16</th>\n",
       "      <td>100300</td>\n",
       "      <td>6527</td>\n",
       "      <td>41863</td>\n",
       "      <td>40.63</td>\n",
       "      <td>2016</td>\n",
       "    </tr>\n",
       "    <tr>\n",
       "      <th>17</th>\n",
       "      <td>61800</td>\n",
       "      <td>1248</td>\n",
       "      <td>35410</td>\n",
       "      <td>42.80</td>\n",
       "      <td>2017</td>\n",
       "    </tr>\n",
       "  </tbody>\n",
       "</table>\n",
       "</div>"
      ],
      "text/plain": [
       "   Employees  Income  Revenue  Share Price  Year\n",
       "0               2177    17354        17.11  2000\n",
       "1               3969    17545        15.24  2001\n",
       "2               3050    19394        15.82  2002\n",
       "3               4347    20857        14.28  2003\n",
       "4               4847    21742        15.34  2004\n",
       "5               4872    23104        14.47  2005\n",
       "6               5080    24088        15.26  2006\n",
       "7      90500    5981    28857        19.24  2007\n",
       "8      92400    5807    31944        19.71  2008\n",
       "9      92800    6824    30990        18.49  2009\n",
       "10    139600   11787    35119        22.12  2010\n",
       "11    146200    8584    46542        26.84  2011\n",
       "12    150900    9019    48017        30.70  2012\n",
       "13    130600    8584    46854        33.78  2013\n",
       "14    129200    7098    45998        35.82  2014\n",
       "15    123200    7351    44294        37.29  2015\n",
       "16    100300    6527    41863        40.63  2016\n",
       "17     61800    1248    35410        42.80  2017"
      ]
     },
     "execution_count": 219,
     "metadata": {},
     "output_type": "execute_result"
    }
   ],
   "source": [
    "df"
   ]
  },
  {
   "cell_type": "code",
   "execution_count": 213,
   "metadata": {},
   "outputs": [
    {
     "data": {
      "text/plain": [
       "<matplotlib.axes._subplots.AxesSubplot at 0x116273c50>"
      ]
     },
     "execution_count": 213,
     "metadata": {},
     "output_type": "execute_result"
    },
    {
     "data": {
      "image/png": "[encoded data removed]",
      "text/plain": [
       "<Figure size 432x288 with 1 Axes>"
      ]
     },
     "metadata": {},
     "output_type": "display_data"
    }
   ],
   "source": [
    "df.plot(x='Year',y='Income')"
   ]
  },
  {
   "cell_type": "code",
   "execution_count": null,
   "metadata": {},
   "outputs": [],
   "source": []
  }
 ],
 "metadata": {
  "kernelspec": {
   "display_name": "Python 3",
   "language": "python",
   "name": "python3"
  },
  "language_info": {
   "codemirror_mode": {
    "name": "ipython",
    "version": 3
   },
   "file_extension": ".py",
   "mimetype": "text/x-python",
   "name": "python",
   "nbconvert_exporter": "python",
   "pygments_lexer": "ipython3",
   "version": "3.6.5"
  }
 },
 "nbformat": 4,
 "nbformat_minor": 2
}
